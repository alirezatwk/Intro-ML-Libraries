{
 "cells": [
  {
   "cell_type": "markdown",
   "metadata": {},
   "source": [
    "# به نام خدا"
   ]
  },
  {
   "cell_type": "markdown",
   "metadata": {},
   "source": [
    "علیرضا توکلی\n",
    "\n",
    "۸۱۰۱۹۷۶۸۶\n",
    "\n",
    "پروژه‌ی صفر هوش مصنوعی\n",
    "آشنایی با هوش مصنوعی"
   ]
  },
  {
   "cell_type": "markdown",
   "metadata": {},
   "source": [
    "### هدف\n",
    "\n",
    "هدف از انجام این پروژه پیش‌بینی کلیک کردن یا نکردن کاربران سایت با توجه به ویژگی‌های هر کاربر است. به طور دقیق‌تر هدف این پروژه پر کردن نواقص دیتاست داده شده با پیش‌بینی آن‌ها به کمک تحلیل آماری است."
   ]
  },
  {
   "cell_type": "markdown",
   "metadata": {},
   "source": [
    "### توضیح کلی\n",
    "در این پروژه دیتاستی به ما داده می‌شود که هر سطر آن ویژگی‌های کاربران وجود دارد و در ستون آخر، کلیک کردن یا نکردن کاربر بر روی تبلیغ را نشان می‌دهد. بعضی از سطر‌ها ستون آخرشان خالی است که نشان‌دهنده‌ی این است که ما باید آن‌ها را پر کنیم. این پروژه قدم‌های مختلفی از جمله بررسی دیتاست، تبدیل ستون‌های نوعی به عددی، پر کردن مقادیر خالی و ... را شامل می‌شود."
   ]
  },
  {
   "cell_type": "markdown",
   "metadata": {},
   "source": [
    "### دیتاهای این پروژه\n",
    "در این پروژه تنها دیتای داده شده به منظور تکمیل ستون هدف وجود دارد که با نام df موجود است."
   ]
  },
  {
   "cell_type": "markdown",
   "metadata": {},
   "source": [
    "## قسمت اول"
   ]
  },
  {
   "cell_type": "markdown",
   "metadata": {},
   "source": [
    "### هدف این قسمت\n",
    "هدف از انجام این بخش وارد کردن دیتا و بررسی کلی دیتا است."
   ]
  },
  {
   "cell_type": "code",
   "execution_count": 1,
   "metadata": {},
   "outputs": [],
   "source": [
    "import pandas as pd\n",
    "import numpy as np"
   ]
  },
  {
   "cell_type": "code",
   "execution_count": 2,
   "metadata": {},
   "outputs": [
    {
     "data": {
      "text/html": [
       "<div>\n",
       "<style scoped>\n",
       "    .dataframe tbody tr th:only-of-type {\n",
       "        vertical-align: middle;\n",
       "    }\n",
       "\n",
       "    .dataframe tbody tr th {\n",
       "        vertical-align: top;\n",
       "    }\n",
       "\n",
       "    .dataframe thead th {\n",
       "        text-align: right;\n",
       "    }\n",
       "</style>\n",
       "<table border=\"1\" class=\"dataframe\">\n",
       "  <thead>\n",
       "    <tr style=\"text-align: right;\">\n",
       "      <th></th>\n",
       "      <th>Daily Time Spent on Site</th>\n",
       "      <th>Age</th>\n",
       "      <th>Area Income</th>\n",
       "      <th>Daily Internet Usage</th>\n",
       "      <th>Ad Topic Line</th>\n",
       "      <th>City</th>\n",
       "      <th>Gender</th>\n",
       "      <th>Country</th>\n",
       "      <th>Timestamp</th>\n",
       "      <th>Clicked on Ad</th>\n",
       "    </tr>\n",
       "  </thead>\n",
       "  <tbody>\n",
       "    <tr>\n",
       "      <th>0</th>\n",
       "      <td>68.95</td>\n",
       "      <td>35.0</td>\n",
       "      <td>61833.90</td>\n",
       "      <td>256.09</td>\n",
       "      <td>Cloned 5thgeneration orchestration</td>\n",
       "      <td>Wrightburgh</td>\n",
       "      <td>Female</td>\n",
       "      <td>Tunisia</td>\n",
       "      <td>2016-03-27 00:53:11</td>\n",
       "      <td>0.0</td>\n",
       "    </tr>\n",
       "    <tr>\n",
       "      <th>1</th>\n",
       "      <td>80.23</td>\n",
       "      <td>31.0</td>\n",
       "      <td>68441.85</td>\n",
       "      <td>NaN</td>\n",
       "      <td>Monitored national standardization</td>\n",
       "      <td>West Jodi</td>\n",
       "      <td>Male</td>\n",
       "      <td>Nauru</td>\n",
       "      <td>2016-04-04 01:39:02</td>\n",
       "      <td>0.0</td>\n",
       "    </tr>\n",
       "    <tr>\n",
       "      <th>2</th>\n",
       "      <td>69.47</td>\n",
       "      <td>26.0</td>\n",
       "      <td>59785.94</td>\n",
       "      <td>236.50</td>\n",
       "      <td>Organic bottom-line service-desk</td>\n",
       "      <td>Davidton</td>\n",
       "      <td>Female</td>\n",
       "      <td>San Marino</td>\n",
       "      <td>2016-03-13 20:35:42</td>\n",
       "      <td>0.0</td>\n",
       "    </tr>\n",
       "    <tr>\n",
       "      <th>3</th>\n",
       "      <td>74.15</td>\n",
       "      <td>29.0</td>\n",
       "      <td>54806.18</td>\n",
       "      <td>245.89</td>\n",
       "      <td>Triple-buffered reciprocal time-frame</td>\n",
       "      <td>West Terrifurt</td>\n",
       "      <td>Male</td>\n",
       "      <td>Italy</td>\n",
       "      <td>2016-01-10 02:31:19</td>\n",
       "      <td>0.0</td>\n",
       "    </tr>\n",
       "    <tr>\n",
       "      <th>4</th>\n",
       "      <td>68.37</td>\n",
       "      <td>35.0</td>\n",
       "      <td>73889.99</td>\n",
       "      <td>225.58</td>\n",
       "      <td>Robust logistical utilization</td>\n",
       "      <td>South Manuel</td>\n",
       "      <td>Female</td>\n",
       "      <td>Iceland</td>\n",
       "      <td>2016-06-03 03:36:18</td>\n",
       "      <td>0.0</td>\n",
       "    </tr>\n",
       "    <tr>\n",
       "      <th>5</th>\n",
       "      <td>59.99</td>\n",
       "      <td>23.0</td>\n",
       "      <td>59761.56</td>\n",
       "      <td>226.74</td>\n",
       "      <td>Sharable client-driven software</td>\n",
       "      <td>Jamieberg</td>\n",
       "      <td>Male</td>\n",
       "      <td>Norway</td>\n",
       "      <td>2016-05-19 14:30:17</td>\n",
       "      <td>0.0</td>\n",
       "    </tr>\n",
       "    <tr>\n",
       "      <th>6</th>\n",
       "      <td>88.91</td>\n",
       "      <td>33.0</td>\n",
       "      <td>53852.85</td>\n",
       "      <td>208.36</td>\n",
       "      <td>Enhanced dedicated support</td>\n",
       "      <td>Brandonstad</td>\n",
       "      <td>Female</td>\n",
       "      <td>Myanmar</td>\n",
       "      <td>2016-01-28 20:59:32</td>\n",
       "      <td>0.0</td>\n",
       "    </tr>\n",
       "  </tbody>\n",
       "</table>\n",
       "</div>"
      ],
      "text/plain": [
       "   Daily Time Spent on Site   Age  Area Income  Daily Internet Usage  \\\n",
       "0                     68.95  35.0     61833.90                256.09   \n",
       "1                     80.23  31.0     68441.85                   NaN   \n",
       "2                     69.47  26.0     59785.94                236.50   \n",
       "3                     74.15  29.0     54806.18                245.89   \n",
       "4                     68.37  35.0     73889.99                225.58   \n",
       "5                     59.99  23.0     59761.56                226.74   \n",
       "6                     88.91  33.0     53852.85                208.36   \n",
       "\n",
       "                           Ad Topic Line            City  Gender     Country  \\\n",
       "0     Cloned 5thgeneration orchestration     Wrightburgh  Female     Tunisia   \n",
       "1     Monitored national standardization       West Jodi    Male       Nauru   \n",
       "2       Organic bottom-line service-desk        Davidton  Female  San Marino   \n",
       "3  Triple-buffered reciprocal time-frame  West Terrifurt    Male       Italy   \n",
       "4          Robust logistical utilization    South Manuel  Female     Iceland   \n",
       "5        Sharable client-driven software       Jamieberg    Male      Norway   \n",
       "6             Enhanced dedicated support     Brandonstad  Female     Myanmar   \n",
       "\n",
       "             Timestamp  Clicked on Ad  \n",
       "0  2016-03-27 00:53:11            0.0  \n",
       "1  2016-04-04 01:39:02            0.0  \n",
       "2  2016-03-13 20:35:42            0.0  \n",
       "3  2016-01-10 02:31:19            0.0  \n",
       "4  2016-06-03 03:36:18            0.0  \n",
       "5  2016-05-19 14:30:17            0.0  \n",
       "6  2016-01-28 20:59:32            0.0  "
      ]
     },
     "execution_count": 2,
     "metadata": {},
     "output_type": "execute_result"
    }
   ],
   "source": [
    "df = pd.read_csv('advertising_dataset.csv', index_col=0)\n",
    "df.head(7)"
   ]
  },
  {
   "cell_type": "markdown",
   "metadata": {},
   "source": [
    "همان‌طور که مشاهده می‌کنید، داده‌ی ما از یک ستون ایندکس، ۹ ستون ویژگی و در آخر نیز ستون جواب وجود دارد.\n",
    "بعضی از ستون‌ها مقادیر خالی دارند. تعدادی از ستون‌ها نیز مقادیرشان مقادیر عددی نیستند."
   ]
  },
  {
   "cell_type": "code",
   "execution_count": 4,
   "metadata": {},
   "outputs": [
    {
     "data": {
      "text/html": [
       "<div>\n",
       "<style scoped>\n",
       "    .dataframe tbody tr th:only-of-type {\n",
       "        vertical-align: middle;\n",
       "    }\n",
       "\n",
       "    .dataframe tbody tr th {\n",
       "        vertical-align: top;\n",
       "    }\n",
       "\n",
       "    .dataframe thead th {\n",
       "        text-align: right;\n",
       "    }\n",
       "</style>\n",
       "<table border=\"1\" class=\"dataframe\">\n",
       "  <thead>\n",
       "    <tr style=\"text-align: right;\">\n",
       "      <th></th>\n",
       "      <th>Daily Time Spent on Site</th>\n",
       "      <th>Age</th>\n",
       "      <th>Area Income</th>\n",
       "      <th>Daily Internet Usage</th>\n",
       "      <th>Ad Topic Line</th>\n",
       "      <th>City</th>\n",
       "      <th>Gender</th>\n",
       "      <th>Country</th>\n",
       "      <th>Timestamp</th>\n",
       "      <th>Clicked on Ad</th>\n",
       "    </tr>\n",
       "  </thead>\n",
       "  <tbody>\n",
       "    <tr>\n",
       "      <th>993</th>\n",
       "      <td>64.20</td>\n",
       "      <td>27.0</td>\n",
       "      <td>66200.96</td>\n",
       "      <td>227.63</td>\n",
       "      <td>Phased zero tolerance extranet</td>\n",
       "      <td>Edwardsmouth</td>\n",
       "      <td>Male</td>\n",
       "      <td>Isle of Man</td>\n",
       "      <td>2016-02-11 23:45:01</td>\n",
       "      <td>0.0</td>\n",
       "    </tr>\n",
       "    <tr>\n",
       "      <th>994</th>\n",
       "      <td>43.70</td>\n",
       "      <td>28.0</td>\n",
       "      <td>63126.96</td>\n",
       "      <td>173.01</td>\n",
       "      <td>Front-line bifurcated ability</td>\n",
       "      <td>Nicholasland</td>\n",
       "      <td>Female</td>\n",
       "      <td>Mayotte</td>\n",
       "      <td>2016-04-04 03:57:48</td>\n",
       "      <td>1.0</td>\n",
       "    </tr>\n",
       "    <tr>\n",
       "      <th>995</th>\n",
       "      <td>72.97</td>\n",
       "      <td>30.0</td>\n",
       "      <td>71384.57</td>\n",
       "      <td>208.58</td>\n",
       "      <td>Fundamental modular algorithm</td>\n",
       "      <td>Duffystad</td>\n",
       "      <td>Male</td>\n",
       "      <td>Lebanon</td>\n",
       "      <td>2016-02-11 21:49:00</td>\n",
       "      <td>1.0</td>\n",
       "    </tr>\n",
       "    <tr>\n",
       "      <th>996</th>\n",
       "      <td>51.30</td>\n",
       "      <td>45.0</td>\n",
       "      <td>67782.17</td>\n",
       "      <td>134.42</td>\n",
       "      <td>Grass-roots cohesive monitoring</td>\n",
       "      <td>New Darlene</td>\n",
       "      <td>Male</td>\n",
       "      <td>Bosnia and Herzegovina</td>\n",
       "      <td>2016-04-22 02:07:01</td>\n",
       "      <td>1.0</td>\n",
       "    </tr>\n",
       "    <tr>\n",
       "      <th>997</th>\n",
       "      <td>51.63</td>\n",
       "      <td>51.0</td>\n",
       "      <td>42415.72</td>\n",
       "      <td>120.37</td>\n",
       "      <td>Expanded intangible solution</td>\n",
       "      <td>South Jessica</td>\n",
       "      <td>Male</td>\n",
       "      <td>Mongolia</td>\n",
       "      <td>2016-02-01 17:24:57</td>\n",
       "      <td>1.0</td>\n",
       "    </tr>\n",
       "    <tr>\n",
       "      <th>998</th>\n",
       "      <td>55.55</td>\n",
       "      <td>19.0</td>\n",
       "      <td>41920.79</td>\n",
       "      <td>187.95</td>\n",
       "      <td>Proactive bandwidth-monitored policy</td>\n",
       "      <td>West Steven</td>\n",
       "      <td>Female</td>\n",
       "      <td>Guatemala</td>\n",
       "      <td>2016-03-24 02:35:54</td>\n",
       "      <td>0.0</td>\n",
       "    </tr>\n",
       "    <tr>\n",
       "      <th>999</th>\n",
       "      <td>NaN</td>\n",
       "      <td>26.0</td>\n",
       "      <td>29875.80</td>\n",
       "      <td>178.35</td>\n",
       "      <td>Virtual 5thgeneration emulation</td>\n",
       "      <td>Ronniemouth</td>\n",
       "      <td>Female</td>\n",
       "      <td>Brazil</td>\n",
       "      <td>2016-06-03 21:43:21</td>\n",
       "      <td>1.0</td>\n",
       "    </tr>\n",
       "  </tbody>\n",
       "</table>\n",
       "</div>"
      ],
      "text/plain": [
       "     Daily Time Spent on Site   Age  Area Income  Daily Internet Usage  \\\n",
       "993                     64.20  27.0     66200.96                227.63   \n",
       "994                     43.70  28.0     63126.96                173.01   \n",
       "995                     72.97  30.0     71384.57                208.58   \n",
       "996                     51.30  45.0     67782.17                134.42   \n",
       "997                     51.63  51.0     42415.72                120.37   \n",
       "998                     55.55  19.0     41920.79                187.95   \n",
       "999                       NaN  26.0     29875.80                178.35   \n",
       "\n",
       "                            Ad Topic Line           City  Gender  \\\n",
       "993        Phased zero tolerance extranet   Edwardsmouth    Male   \n",
       "994         Front-line bifurcated ability   Nicholasland  Female   \n",
       "995         Fundamental modular algorithm      Duffystad    Male   \n",
       "996       Grass-roots cohesive monitoring    New Darlene    Male   \n",
       "997          Expanded intangible solution  South Jessica    Male   \n",
       "998  Proactive bandwidth-monitored policy    West Steven  Female   \n",
       "999       Virtual 5thgeneration emulation    Ronniemouth  Female   \n",
       "\n",
       "                    Country            Timestamp  Clicked on Ad  \n",
       "993             Isle of Man  2016-02-11 23:45:01            0.0  \n",
       "994                 Mayotte  2016-04-04 03:57:48            1.0  \n",
       "995                 Lebanon  2016-02-11 21:49:00            1.0  \n",
       "996  Bosnia and Herzegovina  2016-04-22 02:07:01            1.0  \n",
       "997                Mongolia  2016-02-01 17:24:57            1.0  \n",
       "998               Guatemala  2016-03-24 02:35:54            0.0  \n",
       "999                  Brazil  2016-06-03 21:43:21            1.0  "
      ]
     },
     "execution_count": 4,
     "metadata": {},
     "output_type": "execute_result"
    }
   ],
   "source": [
    "df.tail(7)"
   ]
  },
  {
   "cell_type": "markdown",
   "metadata": {},
   "source": [
    "به طور مشابه برای انتهای این داده نیز شرایط گفته شده وجود دارد. ستون هدف را می‌بینیم که مقادیر ۰ و ۱ دارند که نشان‌دهنده‌ی عدم کلیک و کلیک فرد بر روی تبلیغ است."
   ]
  },
  {
   "cell_type": "code",
   "execution_count": 5,
   "metadata": {},
   "outputs": [
    {
     "data": {
      "text/html": [
       "<div>\n",
       "<style scoped>\n",
       "    .dataframe tbody tr th:only-of-type {\n",
       "        vertical-align: middle;\n",
       "    }\n",
       "\n",
       "    .dataframe tbody tr th {\n",
       "        vertical-align: top;\n",
       "    }\n",
       "\n",
       "    .dataframe thead th {\n",
       "        text-align: right;\n",
       "    }\n",
       "</style>\n",
       "<table border=\"1\" class=\"dataframe\">\n",
       "  <thead>\n",
       "    <tr style=\"text-align: right;\">\n",
       "      <th></th>\n",
       "      <th>Daily Time Spent on Site</th>\n",
       "      <th>Age</th>\n",
       "      <th>Area Income</th>\n",
       "      <th>Daily Internet Usage</th>\n",
       "      <th>Clicked on Ad</th>\n",
       "    </tr>\n",
       "  </thead>\n",
       "  <tbody>\n",
       "    <tr>\n",
       "      <th>count</th>\n",
       "      <td>907.000000</td>\n",
       "      <td>979.000000</td>\n",
       "      <td>1000.000000</td>\n",
       "      <td>913.000000</td>\n",
       "      <td>832.000000</td>\n",
       "    </tr>\n",
       "    <tr>\n",
       "      <th>mean</th>\n",
       "      <td>64.794818</td>\n",
       "      <td>36.009193</td>\n",
       "      <td>55000.000080</td>\n",
       "      <td>179.751271</td>\n",
       "      <td>0.496394</td>\n",
       "    </tr>\n",
       "    <tr>\n",
       "      <th>std</th>\n",
       "      <td>15.954841</td>\n",
       "      <td>8.783636</td>\n",
       "      <td>13414.634022</td>\n",
       "      <td>43.957934</td>\n",
       "      <td>0.500288</td>\n",
       "    </tr>\n",
       "    <tr>\n",
       "      <th>min</th>\n",
       "      <td>32.600000</td>\n",
       "      <td>19.000000</td>\n",
       "      <td>13996.500000</td>\n",
       "      <td>104.780000</td>\n",
       "      <td>0.000000</td>\n",
       "    </tr>\n",
       "    <tr>\n",
       "      <th>25%</th>\n",
       "      <td>50.615000</td>\n",
       "      <td>29.000000</td>\n",
       "      <td>47031.802500</td>\n",
       "      <td>138.550000</td>\n",
       "      <td>0.000000</td>\n",
       "    </tr>\n",
       "    <tr>\n",
       "      <th>50%</th>\n",
       "      <td>67.940000</td>\n",
       "      <td>35.000000</td>\n",
       "      <td>57012.300000</td>\n",
       "      <td>183.480000</td>\n",
       "      <td>0.000000</td>\n",
       "    </tr>\n",
       "    <tr>\n",
       "      <th>75%</th>\n",
       "      <td>78.555000</td>\n",
       "      <td>42.000000</td>\n",
       "      <td>65470.635000</td>\n",
       "      <td>217.850000</td>\n",
       "      <td>1.000000</td>\n",
       "    </tr>\n",
       "    <tr>\n",
       "      <th>max</th>\n",
       "      <td>91.430000</td>\n",
       "      <td>61.000000</td>\n",
       "      <td>79484.800000</td>\n",
       "      <td>269.960000</td>\n",
       "      <td>1.000000</td>\n",
       "    </tr>\n",
       "  </tbody>\n",
       "</table>\n",
       "</div>"
      ],
      "text/plain": [
       "       Daily Time Spent on Site         Age   Area Income  \\\n",
       "count                907.000000  979.000000   1000.000000   \n",
       "mean                  64.794818   36.009193  55000.000080   \n",
       "std                   15.954841    8.783636  13414.634022   \n",
       "min                   32.600000   19.000000  13996.500000   \n",
       "25%                   50.615000   29.000000  47031.802500   \n",
       "50%                   67.940000   35.000000  57012.300000   \n",
       "75%                   78.555000   42.000000  65470.635000   \n",
       "max                   91.430000   61.000000  79484.800000   \n",
       "\n",
       "       Daily Internet Usage  Clicked on Ad  \n",
       "count            913.000000     832.000000  \n",
       "mean             179.751271       0.496394  \n",
       "std               43.957934       0.500288  \n",
       "min              104.780000       0.000000  \n",
       "25%              138.550000       0.000000  \n",
       "50%              183.480000       0.000000  \n",
       "75%              217.850000       1.000000  \n",
       "max              269.960000       1.000000  "
      ]
     },
     "execution_count": 5,
     "metadata": {},
     "output_type": "execute_result"
    }
   ],
   "source": [
    "df.describe()"
   ]
  },
  {
   "cell_type": "markdown",
   "metadata": {},
   "source": [
    "این تابع به ازای ستون‌های عددی داده اطلاعاتی به ما می‌دهد. یکی از نکاتی که قابل مشاهده است، تعداد مقادیر برای هر ستون است که ۱۰۰۰ نبودن آن‌ها حاکی از آن است که تعدادی از این مقادیر خالی است.\n",
    "\n",
    "کاربران به احتمال ۱/۲ روی تبلیغ کلیک می‌کنند. مقادیر درآمد عددهای بزرگ‌تری نسبت به بقیه ستون‌ها هستند و دارای پراکندگی بسیاری می‌باشد."
   ]
  },
  {
   "cell_type": "markdown",
   "metadata": {},
   "source": [
    "## قسمت دوم"
   ]
  },
  {
   "cell_type": "code",
   "execution_count": 6,
   "metadata": {},
   "outputs": [
    {
     "name": "stdout",
     "output_type": "stream",
     "text": [
      "<class 'pandas.core.frame.DataFrame'>\n",
      "Int64Index: 1000 entries, 0 to 999\n",
      "Data columns (total 10 columns):\n",
      " #   Column                    Non-Null Count  Dtype  \n",
      "---  ------                    --------------  -----  \n",
      " 0   Daily Time Spent on Site  907 non-null    float64\n",
      " 1   Age                       979 non-null    float64\n",
      " 2   Area Income               1000 non-null   float64\n",
      " 3   Daily Internet Usage      913 non-null    float64\n",
      " 4   Ad Topic Line             1000 non-null   object \n",
      " 5   City                      1000 non-null   object \n",
      " 6   Gender                    1000 non-null   object \n",
      " 7   Country                   1000 non-null   object \n",
      " 8   Timestamp                 1000 non-null   object \n",
      " 9   Clicked on Ad             832 non-null    float64\n",
      "dtypes: float64(5), object(5)\n",
      "memory usage: 85.9+ KB\n"
     ]
    }
   ],
   "source": [
    "df.info()"
   ]
  },
  {
   "cell_type": "markdown",
   "metadata": {},
   "source": [
    "در این بخش اطلاعاتی از نوع هر ستون و تعداد مقادیر غیر خالی هر کدام نشان داده می‌شود."
   ]
  },
  {
   "cell_type": "code",
   "execution_count": 7,
   "metadata": {},
   "outputs": [
    {
     "data": {
      "text/html": [
       "<div>\n",
       "<style scoped>\n",
       "    .dataframe tbody tr th:only-of-type {\n",
       "        vertical-align: middle;\n",
       "    }\n",
       "\n",
       "    .dataframe tbody tr th {\n",
       "        vertical-align: top;\n",
       "    }\n",
       "\n",
       "    .dataframe thead th {\n",
       "        text-align: right;\n",
       "    }\n",
       "</style>\n",
       "<table border=\"1\" class=\"dataframe\">\n",
       "  <thead>\n",
       "    <tr style=\"text-align: right;\">\n",
       "      <th></th>\n",
       "      <th>Daily Time Spent on Site</th>\n",
       "      <th>Age</th>\n",
       "      <th>Area Income</th>\n",
       "      <th>Daily Internet Usage</th>\n",
       "      <th>Ad Topic Line</th>\n",
       "      <th>City</th>\n",
       "      <th>Gender</th>\n",
       "      <th>Country</th>\n",
       "      <th>Timestamp</th>\n",
       "      <th>Clicked on Ad</th>\n",
       "    </tr>\n",
       "  </thead>\n",
       "  <tbody>\n",
       "    <tr>\n",
       "      <th>0</th>\n",
       "      <td>68.95</td>\n",
       "      <td>35.0</td>\n",
       "      <td>61833.90</td>\n",
       "      <td>256.09</td>\n",
       "      <td>Cloned 5thgeneration orchestration</td>\n",
       "      <td>Wrightburgh</td>\n",
       "      <td>0</td>\n",
       "      <td>Tunisia</td>\n",
       "      <td>2016-03-27 00:53:11</td>\n",
       "      <td>0.0</td>\n",
       "    </tr>\n",
       "    <tr>\n",
       "      <th>1</th>\n",
       "      <td>80.23</td>\n",
       "      <td>31.0</td>\n",
       "      <td>68441.85</td>\n",
       "      <td>NaN</td>\n",
       "      <td>Monitored national standardization</td>\n",
       "      <td>West Jodi</td>\n",
       "      <td>1</td>\n",
       "      <td>Nauru</td>\n",
       "      <td>2016-04-04 01:39:02</td>\n",
       "      <td>0.0</td>\n",
       "    </tr>\n",
       "    <tr>\n",
       "      <th>2</th>\n",
       "      <td>69.47</td>\n",
       "      <td>26.0</td>\n",
       "      <td>59785.94</td>\n",
       "      <td>236.50</td>\n",
       "      <td>Organic bottom-line service-desk</td>\n",
       "      <td>Davidton</td>\n",
       "      <td>0</td>\n",
       "      <td>San Marino</td>\n",
       "      <td>2016-03-13 20:35:42</td>\n",
       "      <td>0.0</td>\n",
       "    </tr>\n",
       "    <tr>\n",
       "      <th>3</th>\n",
       "      <td>74.15</td>\n",
       "      <td>29.0</td>\n",
       "      <td>54806.18</td>\n",
       "      <td>245.89</td>\n",
       "      <td>Triple-buffered reciprocal time-frame</td>\n",
       "      <td>West Terrifurt</td>\n",
       "      <td>1</td>\n",
       "      <td>Italy</td>\n",
       "      <td>2016-01-10 02:31:19</td>\n",
       "      <td>0.0</td>\n",
       "    </tr>\n",
       "    <tr>\n",
       "      <th>4</th>\n",
       "      <td>68.37</td>\n",
       "      <td>35.0</td>\n",
       "      <td>73889.99</td>\n",
       "      <td>225.58</td>\n",
       "      <td>Robust logistical utilization</td>\n",
       "      <td>South Manuel</td>\n",
       "      <td>0</td>\n",
       "      <td>Iceland</td>\n",
       "      <td>2016-06-03 03:36:18</td>\n",
       "      <td>0.0</td>\n",
       "    </tr>\n",
       "  </tbody>\n",
       "</table>\n",
       "</div>"
      ],
      "text/plain": [
       "   Daily Time Spent on Site   Age  Area Income  Daily Internet Usage  \\\n",
       "0                     68.95  35.0     61833.90                256.09   \n",
       "1                     80.23  31.0     68441.85                   NaN   \n",
       "2                     69.47  26.0     59785.94                236.50   \n",
       "3                     74.15  29.0     54806.18                245.89   \n",
       "4                     68.37  35.0     73889.99                225.58   \n",
       "\n",
       "                           Ad Topic Line            City Gender     Country  \\\n",
       "0     Cloned 5thgeneration orchestration     Wrightburgh      0     Tunisia   \n",
       "1     Monitored national standardization       West Jodi      1       Nauru   \n",
       "2       Organic bottom-line service-desk        Davidton      0  San Marino   \n",
       "3  Triple-buffered reciprocal time-frame  West Terrifurt      1       Italy   \n",
       "4          Robust logistical utilization    South Manuel      0     Iceland   \n",
       "\n",
       "             Timestamp  Clicked on Ad  \n",
       "0  2016-03-27 00:53:11            0.0  \n",
       "1  2016-04-04 01:39:02            0.0  \n",
       "2  2016-03-13 20:35:42            0.0  \n",
       "3  2016-01-10 02:31:19            0.0  \n",
       "4  2016-06-03 03:36:18            0.0  "
      ]
     },
     "execution_count": 7,
     "metadata": {},
     "output_type": "execute_result"
    }
   ],
   "source": [
    "featureName = 'Gender'\n",
    "df.loc[df[featureName] == 'Male', featureName] = 1\n",
    "df.loc[df[featureName] == 'Female', featureName] = 0\n",
    "df.head()"
   ]
  },
  {
   "cell_type": "markdown",
   "metadata": {},
   "source": [
    "## قسمت سوم"
   ]
  },
  {
   "cell_type": "markdown",
   "metadata": {},
   "source": [
    "### هدف این قسمت\n",
    "هدف از انجام این قسمت پر کردن ستون‌های غیرهدف خالی است. آن‌ها را می‌توان با روش‌های مختلفی پر کرد که در این بخش ما از میانگین هر ستون استفاده می‌کنیم."
   ]
  },
  {
   "cell_type": "code",
   "execution_count": 8,
   "metadata": {},
   "outputs": [
    {
     "data": {
      "text/plain": [
       "Daily Time Spent on Site     93\n",
       "Age                          21\n",
       "Area Income                   0\n",
       "Daily Internet Usage         87\n",
       "Ad Topic Line                 0\n",
       "City                          0\n",
       "Gender                        0\n",
       "Country                       0\n",
       "Timestamp                     0\n",
       "Clicked on Ad               168\n",
       "dtype: int64"
      ]
     },
     "execution_count": 8,
     "metadata": {},
     "output_type": "execute_result"
    }
   ],
   "source": [
    "df.isna().sum()"
   ]
  },
  {
   "cell_type": "markdown",
   "metadata": {},
   "source": [
    "همان‌طور که مشاهده می‌کنید، تابع ابتدایی به ازای هر خانه به ما می‌گوید که آیا این خانه مقدار دارد یا نه. اگر ما همه‌ی این مقادیر را به ازای ستون‌های مختلف جمع کنیم، به تعداد مقادیر خالی هر ستون می‌رسیم."
   ]
  },
  {
   "cell_type": "code",
   "execution_count": 9,
   "metadata": {},
   "outputs": [
    {
     "data": {
      "text/html": [
       "<div>\n",
       "<style scoped>\n",
       "    .dataframe tbody tr th:only-of-type {\n",
       "        vertical-align: middle;\n",
       "    }\n",
       "\n",
       "    .dataframe tbody tr th {\n",
       "        vertical-align: top;\n",
       "    }\n",
       "\n",
       "    .dataframe thead th {\n",
       "        text-align: right;\n",
       "    }\n",
       "</style>\n",
       "<table border=\"1\" class=\"dataframe\">\n",
       "  <thead>\n",
       "    <tr style=\"text-align: right;\">\n",
       "      <th></th>\n",
       "      <th>Daily Time Spent on Site</th>\n",
       "      <th>Age</th>\n",
       "      <th>Area Income</th>\n",
       "      <th>Daily Internet Usage</th>\n",
       "      <th>Ad Topic Line</th>\n",
       "      <th>City</th>\n",
       "      <th>Gender</th>\n",
       "      <th>Country</th>\n",
       "      <th>Timestamp</th>\n",
       "      <th>Clicked on Ad</th>\n",
       "    </tr>\n",
       "  </thead>\n",
       "  <tbody>\n",
       "    <tr>\n",
       "      <th>0</th>\n",
       "      <td>68.95</td>\n",
       "      <td>35.0</td>\n",
       "      <td>61833.90</td>\n",
       "      <td>256.090000</td>\n",
       "      <td>Cloned 5thgeneration orchestration</td>\n",
       "      <td>Wrightburgh</td>\n",
       "      <td>0</td>\n",
       "      <td>Tunisia</td>\n",
       "      <td>2016-03-27 00:53:11</td>\n",
       "      <td>0.0</td>\n",
       "    </tr>\n",
       "    <tr>\n",
       "      <th>1</th>\n",
       "      <td>80.23</td>\n",
       "      <td>31.0</td>\n",
       "      <td>68441.85</td>\n",
       "      <td>179.751271</td>\n",
       "      <td>Monitored national standardization</td>\n",
       "      <td>West Jodi</td>\n",
       "      <td>1</td>\n",
       "      <td>Nauru</td>\n",
       "      <td>2016-04-04 01:39:02</td>\n",
       "      <td>0.0</td>\n",
       "    </tr>\n",
       "    <tr>\n",
       "      <th>2</th>\n",
       "      <td>69.47</td>\n",
       "      <td>26.0</td>\n",
       "      <td>59785.94</td>\n",
       "      <td>236.500000</td>\n",
       "      <td>Organic bottom-line service-desk</td>\n",
       "      <td>Davidton</td>\n",
       "      <td>0</td>\n",
       "      <td>San Marino</td>\n",
       "      <td>2016-03-13 20:35:42</td>\n",
       "      <td>0.0</td>\n",
       "    </tr>\n",
       "    <tr>\n",
       "      <th>3</th>\n",
       "      <td>74.15</td>\n",
       "      <td>29.0</td>\n",
       "      <td>54806.18</td>\n",
       "      <td>245.890000</td>\n",
       "      <td>Triple-buffered reciprocal time-frame</td>\n",
       "      <td>West Terrifurt</td>\n",
       "      <td>1</td>\n",
       "      <td>Italy</td>\n",
       "      <td>2016-01-10 02:31:19</td>\n",
       "      <td>0.0</td>\n",
       "    </tr>\n",
       "    <tr>\n",
       "      <th>4</th>\n",
       "      <td>68.37</td>\n",
       "      <td>35.0</td>\n",
       "      <td>73889.99</td>\n",
       "      <td>225.580000</td>\n",
       "      <td>Robust logistical utilization</td>\n",
       "      <td>South Manuel</td>\n",
       "      <td>0</td>\n",
       "      <td>Iceland</td>\n",
       "      <td>2016-06-03 03:36:18</td>\n",
       "      <td>0.0</td>\n",
       "    </tr>\n",
       "  </tbody>\n",
       "</table>\n",
       "</div>"
      ],
      "text/plain": [
       "   Daily Time Spent on Site   Age  Area Income  Daily Internet Usage  \\\n",
       "0                     68.95  35.0     61833.90            256.090000   \n",
       "1                     80.23  31.0     68441.85            179.751271   \n",
       "2                     69.47  26.0     59785.94            236.500000   \n",
       "3                     74.15  29.0     54806.18            245.890000   \n",
       "4                     68.37  35.0     73889.99            225.580000   \n",
       "\n",
       "                           Ad Topic Line            City Gender     Country  \\\n",
       "0     Cloned 5thgeneration orchestration     Wrightburgh      0     Tunisia   \n",
       "1     Monitored national standardization       West Jodi      1       Nauru   \n",
       "2       Organic bottom-line service-desk        Davidton      0  San Marino   \n",
       "3  Triple-buffered reciprocal time-frame  West Terrifurt      1       Italy   \n",
       "4          Robust logistical utilization    South Manuel      0     Iceland   \n",
       "\n",
       "             Timestamp  Clicked on Ad  \n",
       "0  2016-03-27 00:53:11            0.0  \n",
       "1  2016-04-04 01:39:02            0.0  \n",
       "2  2016-03-13 20:35:42            0.0  \n",
       "3  2016-01-10 02:31:19            0.0  \n",
       "4  2016-06-03 03:36:18            0.0  "
      ]
     },
     "execution_count": 9,
     "metadata": {},
     "output_type": "execute_result"
    }
   ],
   "source": [
    "nanColumns = ['Daily Time Spent on Site', 'Age', 'Daily Internet Usage']\n",
    "for feature in nanColumns:\n",
    "    df.loc[df[feature].isna(), feature] = df[feature].sum() / df[feature].count()\n",
    "df.head()"
   ]
  },
  {
   "cell_type": "code",
   "execution_count": 10,
   "metadata": {},
   "outputs": [
    {
     "data": {
      "text/plain": [
       "Daily Time Spent on Site      0\n",
       "Age                           0\n",
       "Area Income                   0\n",
       "Daily Internet Usage          0\n",
       "Ad Topic Line                 0\n",
       "City                          0\n",
       "Gender                        0\n",
       "Country                       0\n",
       "Timestamp                     0\n",
       "Clicked on Ad               168\n",
       "dtype: int64"
      ]
     },
     "execution_count": 10,
     "metadata": {},
     "output_type": "execute_result"
    }
   ],
   "source": [
    "df.isna().sum()"
   ]
  },
  {
   "cell_type": "markdown",
   "metadata": {},
   "source": [
    "همان‌طور که می‌بینید به جز ستون هدف، بقیه ستون‌ها مقدار خالی ندارند."
   ]
  },
  {
   "cell_type": "markdown",
   "metadata": {},
   "source": [
    "روش دیگر روش\n",
    "\n",
    "propagation\n",
    "\n",
    "است که در این روش به ازای هر خانه‌ی خالی خانه‌ی بعدی یا قبلی را می‌گذاریم. بدی این روش این است که اگر داده‌های قبلی خیلی بزرگ باشند و نویز باشند، در این روش این نویز تشخیص داده نمی‌شود.\n",
    "\n",
    "با نام‌های ffill, bfill نیز شناخته می‌شوند."
   ]
  },
  {
   "cell_type": "markdown",
   "metadata": {},
   "source": [
    "## قسمت چهارم"
   ]
  },
  {
   "cell_type": "markdown",
   "metadata": {},
   "source": [
    "### هدف این قسمت\n",
    "هدف از انجام این قسمت بررسی میزان کلیک کردن کاربران به صورت آماری است."
   ]
  },
  {
   "cell_type": "code",
   "execution_count": 11,
   "metadata": {},
   "outputs": [
    {
     "name": "stdout",
     "output_type": "stream",
     "text": [
      "Men count: 481\n",
      "Female count: 519\n"
     ]
    }
   ],
   "source": [
    "print(\"Men count:\", df['Gender'].sum())\n",
    "print(\"Female count:\", len(df.loc[df['Gender'] == 0].index))"
   ]
  },
  {
   "cell_type": "code",
   "execution_count": 12,
   "metadata": {},
   "outputs": [
    {
     "name": "stdout",
     "output_type": "stream",
     "text": [
      "Click count: 413.0\n",
      "Not Click count: 419\n"
     ]
    }
   ],
   "source": [
    "print(\"Click count:\", df['Clicked on Ad'].sum())\n",
    "print(\"Not Click count:\", len(df.loc[df['Clicked on Ad'] == 0].index))"
   ]
  },
  {
   "cell_type": "markdown",
   "metadata": {},
   "source": [
    "## قسمت پنجم"
   ]
  },
  {
   "cell_type": "code",
   "execution_count": 13,
   "metadata": {},
   "outputs": [
    {
     "name": "stdout",
     "output_type": "stream",
     "text": [
      "Older than me and same sex: 472\n"
     ]
    }
   ],
   "source": [
    "print(\"Older than me and same sex:\", len(df.loc[(df['Gender'] == 1) & (df['Age'] > 20)].index))"
   ]
  },
  {
   "cell_type": "markdown",
   "metadata": {},
   "source": [
    "## قسمت ششم"
   ]
  },
  {
   "cell_type": "markdown",
   "metadata": {},
   "source": [
    "### هدف این قسمت\n",
    "هدف از انجام این قسمت و قسمت بعدی، بررسی عمل‌کرد وکتوریزشن و حلقه می‌باشد."
   ]
  },
  {
   "cell_type": "code",
   "execution_count": 14,
   "metadata": {},
   "outputs": [],
   "source": [
    "import time"
   ]
  },
  {
   "cell_type": "code",
   "execution_count": 15,
   "metadata": {},
   "outputs": [
    {
     "name": "stdout",
     "output_type": "stream",
     "text": [
      "Average age for users that clicked: 40.295599848637366\n",
      "Average age for users that didn't clicked: 31.723325881701896\n",
      "Time taken: 1.4786720275878906 ms\n"
     ]
    }
   ],
   "source": [
    "tic = time.time()\n",
    "print(\"Average age for users that clicked:\", df.loc[df['Clicked on Ad'] == 1, 'Age'].mean())\n",
    "print(\"Average age for users that didn't clicked:\", df.loc[df['Clicked on Ad'] == 0, 'Age'].mean())\n",
    "toc = time.time()\n",
    "print(\"Time taken:\", (toc - tic) * 1000, \"ms\")"
   ]
  },
  {
   "cell_type": "markdown",
   "metadata": {},
   "source": [
    "## قسمت هفتم"
   ]
  },
  {
   "cell_type": "code",
   "execution_count": 16,
   "metadata": {},
   "outputs": [
    {
     "name": "stdout",
     "output_type": "stream",
     "text": [
      "Average age for users that clicked: 40.295599848637366\n",
      "Average age for users that didn't click: 31.723325881701896\n",
      "Time taken: 196.76637649536133 ms\n"
     ]
    }
   ],
   "source": [
    "clickedAge = 0\n",
    "clickedCount = 0\n",
    "notClickedAge = 0\n",
    "notClickedCount = 0\n",
    "tic = time.time()\n",
    "for i in range(len(df)):\n",
    "    if df.iloc[i]['Clicked on Ad'] == 0:\n",
    "        notClickedAge += df.iloc[i]['Age']\n",
    "        notClickedCount += 1\n",
    "    elif df.iloc[i]['Clicked on Ad'] == 1:\n",
    "        clickedAge += df.iloc[i]['Age']\n",
    "        clickedCount += 1\n",
    "        \n",
    "toc = time.time()\n",
    "print(\"Average age for users that clicked:\", clickedAge / clickedCount)\n",
    "print(\"Average age for users that didn't click:\", notClickedAge / notClickedCount)\n",
    "print(\"Time taken:\", (toc - tic) * 1000, \"ms\")"
   ]
  },
  {
   "cell_type": "markdown",
   "metadata": {},
   "source": [
    "همان‌طور که قابل مشاهده است، زمان قسمت هفتم بسیار بسیار زیادتر و به طور دقیق ۱۲۶ برابر بیش‌تر شده است."
   ]
  },
  {
   "cell_type": "markdown",
   "metadata": {},
   "source": [
    "## قسمت هشتم"
   ]
  },
  {
   "cell_type": "markdown",
   "metadata": {},
   "source": [
    "### هدف این قسمت\n",
    "هدف از انجام این قسمت بررسی و مشاهده‌ی داده‌های عددی به صورت نمودار است."
   ]
  },
  {
   "cell_type": "code",
   "execution_count": 17,
   "metadata": {},
   "outputs": [
    {
     "data": {
      "text/plain": [
       "array([[<matplotlib.axes._subplots.AxesSubplot object at 0x7f615c2f1220>,\n",
       "        <matplotlib.axes._subplots.AxesSubplot object at 0x7f615c5ea8e0>],\n",
       "       [<matplotlib.axes._subplots.AxesSubplot object at 0x7f615c5c2df0>,\n",
       "        <matplotlib.axes._subplots.AxesSubplot object at 0x7f615c2178b0>]],\n",
       "      dtype=object)"
      ]
     },
     "execution_count": 17,
     "metadata": {},
     "output_type": "execute_result"
    },
    {
     "data": {
      "image/png": "[encoded data removed]",
      "text/plain": [
       "<Figure size 1440x1440 with 4 Axes>"
      ]
     },
     "metadata": {
      "needs_background": "light"
     },
     "output_type": "display_data"
    }
   ],
   "source": [
    "columns = ['Daily Time Spent on Site', 'Age', 'Area Income', 'Daily Internet Usage']\n",
    "df.hist(column=columns, figsize=(20, 20))"
   ]
  },
  {
   "cell_type": "markdown",
   "metadata": {},
   "source": [
    "## قسمت نهم"
   ]
  },
  {
   "cell_type": "markdown",
   "metadata": {},
   "source": [
    "### هدف این قسمت\n",
    "هدف از انجام این قسمت نرمال کردن داده‌های عددی به منظور بهبود یادگیری ماشین است.\n",
    "\n",
    "می‌دانیم که نرمال کردن داده‌ها معادل با کم‌کردن هر کدام آن‌ها از میانگین و تقسیم کردن‌شان بر انحراف معیار است."
   ]
  },
  {
   "cell_type": "code",
   "execution_count": 18,
   "metadata": {},
   "outputs": [
    {
     "data": {
      "text/plain": [
       "array([[<matplotlib.axes._subplots.AxesSubplot object at 0x7f61577f76a0>,\n",
       "        <matplotlib.axes._subplots.AxesSubplot object at 0x7f61578081f0>],\n",
       "       [<matplotlib.axes._subplots.AxesSubplot object at 0x7f6157ff4d30>,\n",
       "        <matplotlib.axes._subplots.AxesSubplot object at 0x7f6157fa95b0>]],\n",
       "      dtype=object)"
      ]
     },
     "execution_count": 18,
     "metadata": {},
     "output_type": "execute_result"
    },
    {
     "data": {
      "image/png": "[encoded data removed]",
      "text/plain": [
       "<Figure size 1440x1440 with 4 Axes>"
      ]
     },
     "metadata": {
      "needs_background": "light"
     },
     "output_type": "display_data"
    }
   ],
   "source": [
    "for feature in columns:\n",
    "    df[feature] = np.divide(np.subtract(df[feature], df[feature].mean()), df[feature].std())\n",
    "df.hist(column=columns, figsize=(20, 20))"
   ]
  },
  {
   "cell_type": "markdown",
   "metadata": {},
   "source": [
    "همان‌طور که مشاهده می‌کنید در همه‌ی نمودار‌ها میانگین داده‌ها به صفر رسیده و فرم توزیع نرمال گرفته‌اند."
   ]
  },
  {
   "cell_type": "markdown",
   "metadata": {},
   "source": [
    "## قسمت دهم"
   ]
  },
  {
   "cell_type": "markdown",
   "metadata": {},
   "source": [
    "### هدف این قسمت\n",
    "هدف از انجام این قسمت بررسی هر کدام از داده‌های عددی و پیدا کردن ویژگی بهتر برای پیش‌بینی داده‌های داده نشده است."
   ]
  },
  {
   "cell_type": "code",
   "execution_count": 19,
   "metadata": {},
   "outputs": [
    {
     "name": "stdout",
     "output_type": "stream",
     "text": [
      "For Clicked: Daily Time Spent on Site   -0.691783\n",
      "Age                         0.493211\n",
      "Area Income                -0.498632\n",
      "Daily Internet Usage       -0.753395\n",
      "Gender                      0.476998\n",
      "Clicked on Ad               1.000000\n",
      "dtype: float64 Daily Time Spent on Site    0.836161\n",
      "Age                         1.019268\n",
      "Area Income                 1.046199\n",
      "Daily Internet Usage        0.723959\n",
      "Gender                      0.500076\n",
      "Clicked on Ad               0.000000\n",
      "dtype: float64\n",
      "For notClicked: Daily Time Spent on Site    0.714104\n",
      "Age                        -0.493148\n",
      "Area Income                 0.476367\n",
      "Daily Internet Usage        0.764216\n",
      "Gender                      0.505967\n",
      "Clicked on Ad               0.000000\n",
      "dtype: float64 Daily Time Spent on Site    0.531369\n",
      "Age                         0.706315\n",
      "Area Income                 0.670476\n",
      "Daily Internet Usage        0.592058\n",
      "Gender                      0.500562\n",
      "Clicked on Ad               0.000000\n",
      "dtype: float64\n"
     ]
    }
   ],
   "source": [
    "clickedMean = df.loc[df['Clicked on Ad'] == 1].mean()\n",
    "clickedStd = df.loc[df['Clicked on Ad'] == 1].std()\n",
    "notClickedMean = df.loc[df['Clicked on Ad'] == 0].mean()\n",
    "notClickedStd = df.loc[df['Clicked on Ad'] == 0].std()\n",
    "print(\"For Clicked:\", clickedMean, clickedStd)\n",
    "print(\"For notClicked:\", notClickedMean, notClickedStd)"
   ]
  },
  {
   "cell_type": "code",
   "execution_count": 20,
   "metadata": {},
   "outputs": [
    {
     "data": {
      "image/png": "[encoded data removed]",
      "text/plain": [
       "<Figure size 432x288 with 1 Axes>"
      ]
     },
     "metadata": {
      "needs_background": "light"
     },
     "output_type": "display_data"
    },
    {
     "data": {
      "image/png": "[encoded data removed]",
      "text/plain": [
       "<Figure size 432x288 with 1 Axes>"
      ]
     },
     "metadata": {
      "needs_background": "light"
     },
     "output_type": "display_data"
    },
    {
     "data": {
      "image/png": "[encoded data removed]",
      "text/plain": [
       "<Figure size 432x288 with 1 Axes>"
      ]
     },
     "metadata": {
      "needs_background": "light"
     },
     "output_type": "display_data"
    },
    {
     "data": {
      "image/png": "[encoded data removed]",
      "text/plain": [
       "<Figure size 432x288 with 1 Axes>"
      ]
     },
     "metadata": {
      "needs_background": "light"
     },
     "output_type": "display_data"
    }
   ],
   "source": [
    "from scipy.stats import norm\n",
    "import matplotlib.pyplot as plt\n",
    "\n",
    "x = np.linspace(-3, +3, 100)\n",
    "for feature in columns:\n",
    "    plt.plot(x, norm.pdf(x, clickedMean[feature], clickedStd[feature]), label=\"clicked\")\n",
    "    plt.plot(x, norm.pdf(x, notClickedMean[feature], notClickedStd[feature]), label=\"not clicked\")\n",
    "    \n",
    "    plt.title(\"Plot for \" + feature)\n",
    "    plt.legend()\n",
    "    plt.xlabel(feature)\n",
    "    plt.ylabel(\"Probability Density\")\n",
    "    plt.show()"
   ]
  },
  {
   "cell_type": "markdown",
   "metadata": {},
   "source": [
    "اگر ویژگی‌ای انتخاب کنیم که به ازای هر عدد احتمال فقط یکی از کلاس‌ها زیاد باشد، بهترین گزینه را انتخاب کردیم. در دو نمودار وسط، برخورد دو نمودار به شدت زیاد است و برای عدد‌هایی که در این برخورد هستند نمی‌توان به طور دقیق کلاسی را تعیین کرد.\n",
    "\n",
    "برای دو نمودار اولی و آخری هم از آن‌جایی که میانگین‌شان تقریبا یکی است و در آخری انحراف معیار کم‌تر است، پس ناحیه‌ی برخورد کم‌تر است و احتمال داشتن عددی که ندانیم در کدام کلاس قرار می‌گیرد کم‌تر است.\n",
    "\n",
    "پس جواب:"
   ]
  },
  {
   "cell_type": "markdown",
   "metadata": {},
   "source": [
    "### Daily Internet Usage"
   ]
  },
  {
   "cell_type": "markdown",
   "metadata": {},
   "source": [
    "## قسمت یازدهم"
   ]
  },
  {
   "cell_type": "markdown",
   "metadata": {},
   "source": [
    "### هدف این قسمت\n",
    "با توجه به قسمت قبلی، به بررسی داده‌های بدون جواب می‌پردازیم و جواب‌های به دست آمده را در فایلی با اندیس سطرهای متناظرشان می‌نویسیم."
   ]
  },
  {
   "cell_type": "code",
   "execution_count": 21,
   "metadata": {},
   "outputs": [
    {
     "data": {
      "text/html": [
       "<div>\n",
       "<style scoped>\n",
       "    .dataframe tbody tr th:only-of-type {\n",
       "        vertical-align: middle;\n",
       "    }\n",
       "\n",
       "    .dataframe tbody tr th {\n",
       "        vertical-align: top;\n",
       "    }\n",
       "\n",
       "    .dataframe thead th {\n",
       "        text-align: right;\n",
       "    }\n",
       "</style>\n",
       "<table border=\"1\" class=\"dataframe\">\n",
       "  <thead>\n",
       "    <tr style=\"text-align: right;\">\n",
       "      <th></th>\n",
       "      <th>Index</th>\n",
       "      <th>Clicked</th>\n",
       "    </tr>\n",
       "  </thead>\n",
       "  <tbody>\n",
       "    <tr>\n",
       "      <th>0</th>\n",
       "      <td>10</td>\n",
       "      <td>1</td>\n",
       "    </tr>\n",
       "    <tr>\n",
       "      <th>1</th>\n",
       "      <td>14</td>\n",
       "      <td>1</td>\n",
       "    </tr>\n",
       "    <tr>\n",
       "      <th>2</th>\n",
       "      <td>15</td>\n",
       "      <td>1</td>\n",
       "    </tr>\n",
       "    <tr>\n",
       "      <th>3</th>\n",
       "      <td>20</td>\n",
       "      <td>0</td>\n",
       "    </tr>\n",
       "    <tr>\n",
       "      <th>4</th>\n",
       "      <td>24</td>\n",
       "      <td>1</td>\n",
       "    </tr>\n",
       "  </tbody>\n",
       "</table>\n",
       "</div>"
      ],
      "text/plain": [
       "   Index  Clicked\n",
       "0     10        1\n",
       "1     14        1\n",
       "2     15        1\n",
       "3     20        0\n",
       "4     24        1"
      ]
     },
     "execution_count": 21,
     "metadata": {},
     "output_type": "execute_result"
    }
   ],
   "source": [
    "feature = 'Daily Internet Usage'\n",
    "answerList = []\n",
    "for i in range(len(df)):\n",
    "    if df.iloc[[i]]['Clicked on Ad'].isna().array[0] == True:\n",
    "        clickedProb = norm.pdf(df.iloc[[i]][feature], clickedMean[feature], clickedStd[feature])\n",
    "        notClickedProb = norm.pdf(df.iloc[[i]][feature], notClickedMean[feature], notClickedStd[feature])\n",
    "        if clickedProb <= notClickedProb:\n",
    "            answerList.append({'Index': i, 'Clicked': 0})\n",
    "        else:\n",
    "            answerList.append({'Index': i, 'Clicked': 1})\n",
    "            \n",
    "answerData = pd.DataFrame(answerList)\n",
    "answerData.head()"
   ]
  },
  {
   "cell_type": "code",
   "execution_count": 22,
   "metadata": {},
   "outputs": [],
   "source": [
    "answerData.to_csv(\"Answer.csv\", index=False)"
   ]
  },
  {
   "cell_type": "markdown",
   "metadata": {},
   "source": [
    "# ارائه‌ی راهکار برای توسعه و بهبود پروژه\n",
    "ما در این پروژه تنها از یک ویژگی برای پیش‌بینی هدف استفاده کردیم. همان‌طور که در نمودارها مشخص بود، در حوالی ۰ این ویژگی خیلی خوب کار نمی‌کند و ممکن است خطا داشته باشیم. برای بهبود این پیش‌بینی می‌توان به جای استفاده از یک ستون، در حالت نامطمئن از ستون‌های دیگر نیز استفاده کرد."
   ]
  }
 ],
 "metadata": {
  "kernelspec": {
   "display_name": "Python 3",
   "language": "python",
   "name": "python3"
  },
  "language_info": {
   "codemirror_mode": {
    "name": "ipython",
    "version": 3
   },
   "file_extension": ".py",
   "mimetype": "text/x-python",
   "name": "python",
   "nbconvert_exporter": "python",
   "pygments_lexer": "ipython3",
   "version": "3.8.5"
  }
 },
 "nbformat": 4,
 "nbformat_minor": 4
}
